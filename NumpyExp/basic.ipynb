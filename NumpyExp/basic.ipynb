{
 "cells": [
  {
   "cell_type": "markdown",
   "id": "a32349af",
   "metadata": {},
   "source": [
    "This is the basic jupyter notebook in vscode"
   ]
  },
  {
   "cell_type": "code",
   "execution_count": 1,
   "id": "6607f098",
   "metadata": {},
   "outputs": [
    {
     "name": "stdout",
     "output_type": "stream",
     "text": [
      "Hello, World!\n"
     ]
    }
   ],
   "source": [
    "print(\"Hello, World!\")"
   ]
  },
  {
   "cell_type": "code",
   "execution_count": 17,
   "id": "98c2f04f",
   "metadata": {},
   "outputs": [
    {
     "name": "stdout",
     "output_type": "stream",
     "text": [
      "0\n",
      "1\n",
      "2\n",
      "[[1 2 3]\n",
      " [3 4 5]]\n",
      "3\n",
      "[[[ 1  2  3]\n",
      "  [ 3  4  5]]\n",
      "\n",
      " [[ 6  7  8]\n",
      "  [ 9 10 11]]]\n",
      "4\n",
      "[[[[ 1  2  3]\n",
      "   [ 3  4  5]]\n",
      "\n",
      "  [[ 6  7  8]\n",
      "   [ 9 10 11]]]\n",
      "\n",
      "\n",
      " [[[12 12 13]\n",
      "   [14 15 16]]\n",
      "\n",
      "  [[17 18 19]\n",
      "   [20 21 22]]]]\n",
      "5\n",
      "[[[[[ 1  2  3]\n",
      "    [ 3  4  5]]\n",
      "\n",
      "   [[ 6  7  8]\n",
      "    [ 9 10 11]]]\n",
      "\n",
      "\n",
      "  [[[12 12 13]\n",
      "    [14 15 16]]\n",
      "\n",
      "   [[17 18 19]\n",
      "    [20 21 22]]]]\n",
      "\n",
      "\n",
      "\n",
      " [[[[13 24 25]\n",
      "    [26 27 28]]\n",
      "\n",
      "   [[29 30 31]\n",
      "    [32 33 34]]]\n",
      "\n",
      "\n",
      "  [[[35 36 37]\n",
      "    [38 39 40]]\n",
      "\n",
      "   [[41 42 43]\n",
      "    [44 45 46]]]]]\n",
      "(2, 2, 2, 2, 3)\n",
      "48\n"
     ]
    }
   ],
   "source": [
    "import numpy as np\n",
    "nparray = np.array(1)\n",
    "print(nparray.ndim)\n",
    "# Vector\n",
    "nparray = np.array([1, 2, 3])\n",
    "print(nparray.ndim)\n",
    "# Matrix\n",
    "nparray = np.array([[1, 2, 3], [3, 4, 5]])\n",
    "print(nparray.ndim)\n",
    "print(nparray)\n",
    "# 3-D Tensor (Image, collection of matrices and three channels RGB)\n",
    "nparray = np.array([[[1, 2, 3], [3, 4, 5]],[[6, 7, 8], [9, 10, 11]]])\n",
    "print(nparray.ndim)\n",
    "print(nparray)\n",
    "# 4-D Tensor (Collection of images)\n",
    "nparray = np.array([[[[1, 2, 3], [3, 4, 5]],[[6, 7, 8], [9, 10, 11]]],[[[12, 12, 13], [14, 15, 16]],[[17, 18, 19], [20, 21, 22]]]])\n",
    "print(nparray.ndim)\n",
    "print(nparray)\n",
    "# 5-D Tensor (video, collection of images in one frame and then collection of frames  in a video)\n",
    "nparray = np.array([[[[[1, 2, 3], [3, 4, 5]],[[6, 7, 8], [9, 10, 11]]],[[[12, 12, 13], [14, 15, 16]],[[17, 18, 19], [20, 21, 22]]]],[[[[13, 24, 25], [26, 27, 28]],[[29, 30, 31], [32, 33, 34]]],[[[35, 36, 37], [38, 39, 40]],[[41, 42, 43], [44, 45, 46]]]]])\n",
    "print(nparray.ndim)\n",
    "print(nparray)\n",
    "print (np.shape(nparray))  # (2, 2, 2, 2, 3)\n",
    "print (nparray.size)   # (2, 2, 2, 2, 3)"
   ]
  },
  {
   "cell_type": "code",
   "execution_count": null,
   "id": "5db7d210",
   "metadata": {},
   "outputs": [],
   "source": []
  }
 ],
 "metadata": {
  "kernelspec": {
   "display_name": "NumPyNPandasExpEnv",
   "language": "python",
   "name": "python3"
  },
  "language_info": {
   "codemirror_mode": {
    "name": "ipython",
    "version": 3
   },
   "file_extension": ".py",
   "mimetype": "text/x-python",
   "name": "python",
   "nbconvert_exporter": "python",
   "pygments_lexer": "ipython3",
   "version": "3.12.10"
  }
 },
 "nbformat": 4,
 "nbformat_minor": 5
}
