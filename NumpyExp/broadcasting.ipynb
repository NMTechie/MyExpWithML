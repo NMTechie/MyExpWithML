{
 "cells": [
  {
   "cell_type": "code",
   "execution_count": 1,
   "id": "b6de41e6",
   "metadata": {},
   "outputs": [],
   "source": [
    "import numpy as np\n",
    "import matplotlib.pyplot as plt\n",
    "%matplotlib inline"
   ]
  },
  {
   "cell_type": "code",
   "execution_count": null,
   "id": "5755b584",
   "metadata": {},
   "outputs": [
    {
     "name": "stdout",
     "output_type": "stream",
     "text": [
      "Addition:  [[21 23 25 27 29]\n",
      " [31 33 35 37 39]\n",
      " [41 43 45 47 49]\n",
      " [51 53 55 57 59]]\n"
     ]
    }
   ],
   "source": [
    "arr1 = np.arange(0,20).reshape(4,5)\n",
    "#print(\"Original Array: \", arr1)\n",
    "arr2 = np.arange(21,41).reshape(4,5)\n",
    "#print(\"Original Array: \", arr2)\n",
    "\n",
    "arr1+arr2\n",
    "print(\"Addition: \", arr1+arr2)\n"
   ]
  },
  {
   "cell_type": "markdown",
   "id": "1d25f76f",
   "metadata": {},
   "source": [
    "# now the broadcasting is, \n",
    "> operation between two different matrix with different size but it should be in this format m\\*n with 1\\*n"
   ]
  },
  {
   "cell_type": "code",
   "execution_count": 17,
   "id": "35b0fe96",
   "metadata": {},
   "outputs": [
    {
     "name": "stdout",
     "output_type": "stream",
     "text": [
      "Array 3:  [[11 12]\n",
      " [13 14]\n",
      " [15 16]\n",
      " [17 18]]\n",
      "Array 3:  [[11 12]\n",
      " [13 14]\n",
      " [15 16]\n",
      " [17 18]]\n",
      "Addition:  [[11 13 15 17 19]\n",
      " [16 18 20 22 24]\n",
      " [21 23 25 27 29]\n",
      " [26 28 30 32 34]]\n"
     ]
    }
   ],
   "source": [
    "arr3 = np.arange(11, 19).reshape(4, 2)\n",
    "print(\"Array 3: \", arr3)\n",
    "\n",
    "#print(\"Addition: \", arr1+arr3)\n",
    "\n",
    "arr4 = np.arange(11, 16).reshape(1, 5)\n",
    "print(\"Array 3: \", arr3)\n",
    "\n",
    "print(\"Addition: \", arr1+arr4)"
   ]
  }
 ],
 "metadata": {
  "kernelspec": {
   "display_name": "NumPyNPandasExpEnv",
   "language": "python",
   "name": "python3"
  },
  "language_info": {
   "codemirror_mode": {
    "name": "ipython",
    "version": 3
   },
   "file_extension": ".py",
   "mimetype": "text/x-python",
   "name": "python",
   "nbconvert_exporter": "python",
   "pygments_lexer": "ipython3",
   "version": "3.12.10"
  }
 },
 "nbformat": 4,
 "nbformat_minor": 5
}
